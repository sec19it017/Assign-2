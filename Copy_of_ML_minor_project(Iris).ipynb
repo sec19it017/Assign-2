{
  "nbformat": 4,
  "nbformat_minor": 0,
  "metadata": {
    "colab": {
      "name": "Copy of ML minor project(Iris).ipynb",
      "provenance": [],
      "collapsed_sections": [],
      "authorship_tag": "ABX9TyNDKuuWkqYlynPxq2aCO5M6",
      "include_colab_link": true
    },
    "kernelspec": {
      "name": "python3",
      "display_name": "Python 3"
    },
    "language_info": {
      "name": "python"
    }
  },
  "cells": [
    {
      "cell_type": "markdown",
      "metadata": {
        "id": "view-in-github",
        "colab_type": "text"
      },
      "source": [
        "<a href=\"https://colab.research.google.com/github/sec19it017/Assign-2/blob/master/Copy_of_ML_minor_project(Iris).ipynb\" target=\"_parent\"><img src=\"https://colab.research.google.com/assets/colab-badge.svg\" alt=\"Open In Colab\"/></a>"
      ]
    },
    {
      "cell_type": "code",
      "metadata": {
        "id": "idbJwNegjkDp"
      },
      "source": [
        "import pandas as pd\n",
        "import matplotlib.pyplot as plt"
      ],
      "execution_count": null,
      "outputs": []
    },
    {
      "cell_type": "code",
      "metadata": {
        "id": "LIm7bQNJk0CN"
      },
      "source": [
        "df = pd.read_csv(\"/content/Iris (1) (1).csv\")"
      ],
      "execution_count": null,
      "outputs": []
    },
    {
      "cell_type": "code",
      "metadata": {
        "id": "uBXuOMHHlG1E"
      },
      "source": [
        "x = df.iloc[:, 1:5]\n",
        "y = df.iloc[:,5]"
      ],
      "execution_count": null,
      "outputs": []
    },
    {
      "cell_type": "code",
      "metadata": {
        "id": "VHymMN1aldBd"
      },
      "source": [
        "from sklearn.model_selection import train_test_split"
      ],
      "execution_count": null,
      "outputs": []
    },
    {
      "cell_type": "code",
      "metadata": {
        "id": "wGMQXSubllfc"
      },
      "source": [
        "train_x, test_x, train_y, test_y = train_test_split(x, y, test_size = 0.3, random_state=0)"
      ],
      "execution_count": null,
      "outputs": []
    },
    {
      "cell_type": "code",
      "metadata": {
        "id": "BzBzmzoel2fx"
      },
      "source": [
        "from sklearn.preprocessing import StandardScaler\n",
        "from sklearn.model_selection import cross_val_score"
      ],
      "execution_count": null,
      "outputs": []
    },
    {
      "cell_type": "code",
      "metadata": {
        "id": "HU0WxNtWmF3u"
      },
      "source": [
        "ss = StandardScaler()"
      ],
      "execution_count": null,
      "outputs": []
    },
    {
      "cell_type": "code",
      "metadata": {
        "colab": {
          "base_uri": "https://localhost:8080/"
        },
        "id": "DYxZyrvLmMD3",
        "outputId": "c90b084a-c3cd-4f4b-baf4-c68000e938fc"
      },
      "source": [
        "ss.fit(train_x)"
      ],
      "execution_count": null,
      "outputs": [
        {
          "output_type": "execute_result",
          "data": {
            "text/plain": [
              "StandardScaler(copy=True, with_mean=True, with_std=True)"
            ]
          },
          "metadata": {
            "tags": []
          },
          "execution_count": 9
        }
      ]
    },
    {
      "cell_type": "code",
      "metadata": {
        "id": "XtI524fAmOqn"
      },
      "source": [
        "train_x_std = ss.transform(train_x)\n",
        "test_x_std = ss.transform(test_x)"
      ],
      "execution_count": null,
      "outputs": []
    },
    {
      "cell_type": "markdown",
      "metadata": {
        "id": "AE-nseNqn3X9"
      },
      "source": [
        "**Calculating the accuracy using SUPPORT VECTOR CLASSIFICATION**"
      ]
    },
    {
      "cell_type": "code",
      "metadata": {
        "id": "1yH3K7wamcIE"
      },
      "source": [
        "from sklearn.svm import SVC"
      ],
      "execution_count": null,
      "outputs": []
    },
    {
      "cell_type": "code",
      "metadata": {
        "id": "OvKxeQZbmhPa"
      },
      "source": [
        "svm = SVC(kernel='rbf', random_state=0, gamma =.10, C=1.0)"
      ],
      "execution_count": null,
      "outputs": []
    },
    {
      "cell_type": "code",
      "metadata": {
        "colab": {
          "base_uri": "https://localhost:8080/"
        },
        "id": "b8u_DOxVmuBx",
        "outputId": "7eaebdc9-77c2-46f9-c009-1affccd6cbdc"
      },
      "source": [
        "svm.fit(train_x_std, train_y)"
      ],
      "execution_count": null,
      "outputs": [
        {
          "output_type": "execute_result",
          "data": {
            "text/plain": [
              "SVC(C=1.0, break_ties=False, cache_size=200, class_weight=None, coef0=0.0,\n",
              "    decision_function_shape='ovr', degree=3, gamma=0.1, kernel='rbf',\n",
              "    max_iter=-1, probability=False, random_state=0, shrinking=True, tol=0.001,\n",
              "    verbose=False)"
            ]
          },
          "metadata": {
            "tags": []
          },
          "execution_count": 14
        }
      ]
    },
    {
      "cell_type": "code",
      "metadata": {
        "id": "QVEnQb-cnY_E"
      },
      "source": [
        "svm_train_accuracy = svm.score(train_x_std, train_y)"
      ],
      "execution_count": null,
      "outputs": []
    },
    {
      "cell_type": "code",
      "metadata": {
        "id": "-6EBxtwZngyT"
      },
      "source": [
        "svm_test_accuracy = svm.score(test_x_std, test_y)"
      ],
      "execution_count": null,
      "outputs": []
    },
    {
      "cell_type": "code",
      "metadata": {
        "colab": {
          "base_uri": "https://localhost:8080/"
        },
        "id": "aC5e9tkzp3VH",
        "outputId": "750055b8-c5cd-45ef-a8ea-cfc58847c81b"
      },
      "source": [
        "print(\"The accuracy of svm classifier on training data is {:.4f}\".format(svm_train_accuracy))\n",
        "print(\"The accuracy of svm classifier on test data is {:.4f}\".format(svm_test_accuracy))"
      ],
      "execution_count": null,
      "outputs": [
        {
          "output_type": "stream",
          "text": [
            "The accuracy of svm classifier on training data is 0.9714\n",
            "The accuracy of svm classifier on test data is 0.9778\n"
          ],
          "name": "stdout"
        }
      ]
    },
    {
      "cell_type": "markdown",
      "metadata": {
        "id": "sXRCsPYBoSug"
      },
      "source": [
        "**Calculating the accuracy using DECISION TREE CLASSIFICATION**"
      ]
    },
    {
      "cell_type": "code",
      "metadata": {
        "id": "nhRju-BRnsKo"
      },
      "source": [
        "from sklearn import tree"
      ],
      "execution_count": null,
      "outputs": []
    },
    {
      "cell_type": "code",
      "metadata": {
        "id": "WTAbh6Mlopv9"
      },
      "source": [
        "dt = tree.DecisionTreeClassifier(criterion = 'gini')"
      ],
      "execution_count": null,
      "outputs": []
    },
    {
      "cell_type": "code",
      "metadata": {
        "colab": {
          "base_uri": "https://localhost:8080/"
        },
        "id": "_V7oZ2bLoyuv",
        "outputId": "34f33b58-6296-4b58-e1f4-23f012ff62ad"
      },
      "source": [
        "dt.fit(train_x_std, train_y )"
      ],
      "execution_count": null,
      "outputs": [
        {
          "output_type": "execute_result",
          "data": {
            "text/plain": [
              "DecisionTreeClassifier(ccp_alpha=0.0, class_weight=None, criterion='gini',\n",
              "                       max_depth=None, max_features=None, max_leaf_nodes=None,\n",
              "                       min_impurity_decrease=0.0, min_impurity_split=None,\n",
              "                       min_samples_leaf=1, min_samples_split=2,\n",
              "                       min_weight_fraction_leaf=0.0, presort='deprecated',\n",
              "                       random_state=None, splitter='best')"
            ]
          },
          "metadata": {
            "tags": []
          },
          "execution_count": 20
        }
      ]
    },
    {
      "cell_type": "code",
      "metadata": {
        "id": "Den1qFzto5IT"
      },
      "source": [
        "dt_train_accuracy = dt.score(train_x_std, train_y)"
      ],
      "execution_count": null,
      "outputs": []
    },
    {
      "cell_type": "code",
      "metadata": {
        "id": "LFsoE_q-o_YD"
      },
      "source": [
        "dt_test_accuracy = dt.score(test_x_std, test_y)"
      ],
      "execution_count": null,
      "outputs": []
    },
    {
      "cell_type": "code",
      "metadata": {
        "colab": {
          "base_uri": "https://localhost:8080/"
        },
        "id": "1sIoGSXlpFO_",
        "outputId": "1c4a8043-4d52-419b-8bd9-6cd4a69d44b1"
      },
      "source": [
        "print(\"The accuracy of Decisiontree classifier on training data is {}\".format(dt_train_accuracy))\n",
        "print(\"The accuracy of Decisiontree classifier on test data is {:.4f}\".format(dt_test_accuracy))"
      ],
      "execution_count": null,
      "outputs": [
        {
          "output_type": "stream",
          "text": [
            "The accuracy of Decisiontree classifier on training data is 1.0\n",
            "The accuracy of Decisiontree classifier on test data is 0.9778\n"
          ],
          "name": "stdout"
        }
      ]
    }
  ]
}